{
 "cells": [
  {
   "cell_type": "code",
   "execution_count": 2,
   "id": "95fd77d0-54c1-4cfe-abe5-c51362d00c05",
   "metadata": {},
   "outputs": [
    {
     "name": "stdout",
     "output_type": "stream",
     "text": [
      "Election Results\n",
      "-------------------------\n",
      "Total Votes: 369711\n",
      "-------------------------\n",
      "Charles Casper Stockham: 23.049% (85213)\n",
      "Diana DeGette: 73.812% (272892)\n",
      "Raymon Anthony Doane: 3.139% (11606)\n",
      "-------------------------\n",
      "Winner: Diana DeGette\n",
      "-------------------------\n"
     ]
    }
   ],
   "source": [
    "import csv\n",
    "\n",
    "# Initialize variables\n",
    "total_votes = 0\n",
    "candidates = {}\n",
    "winner = \"\"\n",
    "winning_votes = 0\n",
    "\n",
    "# Read the CSV file\n",
    "with open('election_data.csv', 'r') as file:\n",
    "    csvreader = csv.DictReader(file)\n",
    "    \n",
    "    for row in csvreader:\n",
    "        # Increment the total number of votes\n",
    "        total_votes += 1\n",
    "        \n",
    "        # Check if the candidate is already in the candidates dictionary\n",
    "        candidate_name = row['Candidate']\n",
    "        if candidate_name not in candidates:\n",
    "            candidates[candidate_name] = 0\n",
    "        \n",
    "        # Add a vote to the candidate's total\n",
    "        candidates[candidate_name] += 1\n",
    "\n",
    "# Calculate the winner and print results\n",
    "print(\"Election Results\")\n",
    "print(\"-------------------------\")\n",
    "print(f\"Total Votes: {total_votes}\")\n",
    "print(\"-------------------------\")\n",
    "\n",
    "for candidate, votes in candidates.items():\n",
    "    # Calculate the percentage of votes each candidate won\n",
    "    percentage = (votes / total_votes) * 100\n",
    "    \n",
    "    # Print each candidate's results\n",
    "    print(f\"{candidate}: {percentage:.3f}% ({votes})\")\n",
    "    \n",
    "    # Determine the winner based on popular vote\n",
    "    if votes > winning_votes:\n",
    "        winner = candidate\n",
    "        winning_votes = votes\n",
    "\n",
    "print(\"-------------------------\")\n",
    "print(f\"Winner: {winner}\")\n",
    "print(\"-------------------------\")\n"
   ]
  },
  {
   "cell_type": "code",
   "execution_count": null,
   "id": "3ad90b81-8b7d-4612-8c90-f32d58b11b08",
   "metadata": {},
   "outputs": [],
   "source": []
  },
  {
   "cell_type": "code",
   "execution_count": null,
   "id": "c9356c74-1d43-498d-8cac-001233e75fa5",
   "metadata": {},
   "outputs": [],
   "source": []
  }
 ],
 "metadata": {
  "kernelspec": {
   "display_name": "Python 3 (ipykernel)",
   "language": "python",
   "name": "python3"
  },
  "language_info": {
   "codemirror_mode": {
    "name": "ipython",
    "version": 3
   },
   "file_extension": ".py",
   "mimetype": "text/x-python",
   "name": "python",
   "nbconvert_exporter": "python",
   "pygments_lexer": "ipython3",
   "version": "3.11.7"
  }
 },
 "nbformat": 4,
 "nbformat_minor": 5
}
